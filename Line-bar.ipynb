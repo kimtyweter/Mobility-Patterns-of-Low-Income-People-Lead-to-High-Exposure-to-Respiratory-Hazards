{
 "cells": [
  {
   "cell_type": "code",
   "execution_count": null,
   "id": "f4926fdf",
   "metadata": {},
   "outputs": [],
   "source": [
    "import numpy as np\n",
    "import matplotlib\n",
    "import matplotlib.pyplot as plt\n",
    "from matplotlib.ticker import FuncFormatter\n",
    "%matplotlib inline\n",
    "\n",
    "plt.figure(figsize = (8,6))\n",
    "sns.set_style(\"whitegrid\")\n",
    "\n",
    "order = sorted(df_exp_inc['IncomeGroup_y'].unique())\n",
    "\n",
    "\n",
    "ax = sns.barplot(x = \"IncomeGroup_y\", y = \"k\", data = df_exp_inc, capsize=.2, order = order, palette='RdBu')\n",
    "\n",
    "\n",
    "plt.grid(False)\n",
    "\n",
    "plt.tick_params(bottom = True)\n",
    "plt.tick_params(left = True)\n",
    "\n",
    "plt.xticks(fontsize= 24)\n",
    "plt.yticks(fontsize= 24)\n",
    "\n",
    "\n",
    "for spine in plt.gca().spines.values():\n",
    "    spine.set_visible(False)\n",
    "    spine.set_color('black')\n",
    "    spine.set_linewidth('3') \n",
    "    \n",
    "ax.spines['bottom'].set_visible(True)\n",
    "\n",
    "plt.minorticks_off()\n",
    "\n",
    "plt.locator_params(axis = \"y\",nbins = 4)\n",
    "# ax.set_xlim([-0.12, 2])\n",
    "\n",
    "# Set these based on your column counts\n",
    "columncounts = [50,50,50,50]\n",
    "# Maximum bar width is 1. Normalise counts to be in the interval 0-1. Need to supply a maximum possible count here as maxwidth\n",
    "def normaliseCounts(widths,maxwidth):\n",
    "    widths = np.array(widths)/float(maxwidth)\n",
    "    return widths\n",
    "widthbars = normaliseCounts(columncounts,100)\n",
    "# Loop over the bars, and adjust the width (and position, to keep the bar centred)\n",
    "for bar,newwidth in zip(ax.patches,widthbars):\n",
    "    x = bar.get_x()\n",
    "    width = bar.get_width()\n",
    "    centre = x+width/2.\n",
    "\n",
    "    bar.set_x(centre-newwidth/2.)\n",
    "    bar.set_width(newwidth)\n",
    "\n",
    "plt.ylabel('PM2.5 Exposure', fontsize = 24)\n",
    "plt.xlabel('Income Group', fontsize = 24)\n",
    "plt.savefig('PM2.5 Exposure In Each Income Group.pdf', dpi = 300, bbox_inches=\"tight\")"
   ]
  }
 ],
 "metadata": {
  "kernelspec": {
   "display_name": "Python 3",
   "language": "python",
   "name": "python3"
  },
  "language_info": {
   "codemirror_mode": {
    "name": "ipython",
    "version": 3
   },
   "file_extension": ".py",
   "mimetype": "text/x-python",
   "name": "python",
   "nbconvert_exporter": "python",
   "pygments_lexer": "ipython3",
   "version": "3.8.8"
  }
 },
 "nbformat": 4,
 "nbformat_minor": 5
}
