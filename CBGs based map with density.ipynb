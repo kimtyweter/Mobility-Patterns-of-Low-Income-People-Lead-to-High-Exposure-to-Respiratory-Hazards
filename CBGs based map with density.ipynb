{
 "cells": [
  {
   "cell_type": "code",
   "execution_count": null,
   "id": "1183cb8c",
   "metadata": {},
   "outputs": [],
   "source": [
    "import numpy as np\n",
    "import matplotlib\n",
    "import matplotlib.pyplot as plt\n",
    "from matplotlib.ticker import FuncFormatter\n",
    "from mpl_toolkits.axes_grid1 import make_axes_locatable\n",
    "%matplotlib inline\n",
    "\n",
    "from matplotlib.pyplot import figure\n",
    "fig = figure(figsize=(8, 6))\n",
    "\n",
    "ax1 = harris.plot(edgecolor='black', color = 'white', linewidth = 2.5)\n",
    "\n",
    "# create `cax` for the colorbar\n",
    "\n",
    "\n",
    "ax = df_income_rmv0.plot('IncomeMean', ax = ax1, legend = True, cmap = 'RdBu',legend_kwds={'label': \"Income Mean\",\n",
    "                        'orientation': \"vertical\", 'shrink' : 0.75}, linewidth = 0.05)\n",
    "\n",
    "\n",
    "fig = ax.figure\n",
    "cb_ax = fig.axes[1] \n",
    "cb_ax.tick_params(labelsize=14)\n",
    "cb_ax.set_ylabel('Income Mean', rotation=90, fontsize = 14)\n",
    "\n",
    "\n",
    "\n",
    "plt.box(on=None)\n",
    "plt.grid(False)\n",
    "\n",
    "plt.xticks(fontsize= 14)\n",
    "plt.yticks(fontsize= 14)\n",
    "\n",
    "\n",
    "\n",
    "plt.tick_params(bottom = True)\n",
    "plt.tick_params(left = True)\n",
    "\n",
    "plt.xlabel('Longitude', fontsize=14)\n",
    "plt.ylabel('Latitude', fontsize=14)\n",
    "plt.locator_params(axis = \"y\",nbins = 4)\n",
    "plt.show\n",
    "\n",
    "plt.savefig('IncomeMean.pdf', dpi=300, transparent=False, bbox_inches=\"tight\")"
   ]
  }
 ],
 "metadata": {
  "kernelspec": {
   "display_name": "Python 3",
   "language": "python",
   "name": "python3"
  },
  "language_info": {
   "codemirror_mode": {
    "name": "ipython",
    "version": 3
   },
   "file_extension": ".py",
   "mimetype": "text/x-python",
   "name": "python",
   "nbconvert_exporter": "python",
   "pygments_lexer": "ipython3",
   "version": "3.8.8"
  }
 },
 "nbformat": 4,
 "nbformat_minor": 5
}
