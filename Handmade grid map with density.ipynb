{
 "cells": [
  {
   "cell_type": "code",
   "execution_count": null,
   "id": "b4503b7a",
   "metadata": {},
   "outputs": [],
   "source": [
    "import numpy as np\n",
    "import matplotlib\n",
    "import matplotlib.pyplot as plt\n",
    "from matplotlib.ticker import FuncFormatter\n",
    "%matplotlib inline\n",
    "\n",
    "plt.figure(figsize = (8,6))\n",
    "\n",
    "ax1 = df_grid_income.plot(edgecolor='black', color = 'white', linewidth = 3)\n",
    "ax = df_grid_income.plot(ax = ax1, edgecolor='black', color = 'white', linewidth = 0.03)\n",
    "df_grid_income.plot('Segregation', ax = ax1, legend = True, cmap = 'coolwarm',legend_kwds={'label': \"Income Segregation\",\n",
    "                        'orientation': \"vertical\", 'shrink' : 0.7}, linewidth = 0)\n",
    "fig = ax.figure\n",
    "cb_ax = fig.axes[1] \n",
    "cb_ax.tick_params(labelsize=14)\n",
    "cb_ax.set_ylabel('Income Segregation', rotation=90, fontsize = 14)\n",
    "\n",
    "plt.xlabel('Longitude', fontsize=14)\n",
    "plt.ylabel('Latitude', fontsize=14)\n",
    "\n",
    "plt.tick_params(bottom = True)\n",
    "plt.tick_params(left = True)\n",
    "plt.xticks(fontsize= 14)\n",
    "plt.yticks(fontsize= 14)\n",
    "plt.locator_params(axis = \"y\",nbins = 4)\n",
    "\n",
    "plt.box(on=None)\n",
    "plt.grid(False)\n",
    "\n",
    "# plt.subplots_adjust(bottom=0.25)\n",
    "# plt.subplots_adjust(left=0.25)\n",
    "\n",
    "plt.savefig('Grid_Segregation.pdf', dpi=300, bbox_inches=\"tight\")\n",
    "\n"
   ]
  }
 ],
 "metadata": {
  "kernelspec": {
   "display_name": "Python 3",
   "language": "python",
   "name": "python3"
  },
  "language_info": {
   "codemirror_mode": {
    "name": "ipython",
    "version": 3
   },
   "file_extension": ".py",
   "mimetype": "text/x-python",
   "name": "python",
   "nbconvert_exporter": "python",
   "pygments_lexer": "ipython3",
   "version": "3.8.8"
  }
 },
 "nbformat": 4,
 "nbformat_minor": 5
}
